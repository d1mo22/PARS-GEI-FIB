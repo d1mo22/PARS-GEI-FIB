{
 "cells": [
  {
   "cell_type": "markdown",
   "id": "8465aaa77f22ff17",
   "metadata": {
    "collapsed": false,
    "jupyter": {
     "outputs_hidden": false
    }
   },
   "source": [
    "# Lab: Aprendizaje por refuerzo (I)\n",
    "# 4 - Q-Learning"
   ]
  },
  {
   "cell_type": "markdown",
   "id": "3188cf50fcc707d2",
   "metadata": {
    "collapsed": false,
    "jupyter": {
     "outputs_hidden": false
    }
   },
   "source": [
    "## Configuración y dependencias"
   ]
  },
  {
   "cell_type": "code",
   "execution_count": 1,
   "id": "1dedd6635e56adae",
   "metadata": {
    "collapsed": false,
    "jupyter": {
     "outputs_hidden": false
    }
   },
   "outputs": [],
   "source": [
    "# Declaración de constantes\n",
    "SLIPPERY = False\n",
    "T_MAX = 15\n",
    "NUM_EPISODES = 5\n",
    "GAMMA = 0.95\n",
    "REWARD_THRESHOLD = 0.9\n",
    "LEARNING_RATE = 0.5\n",
    "EPSILON = 0.8"
   ]
  },
  {
   "cell_type": "code",
   "execution_count": 2,
   "id": "1f3260f739ad6dc",
   "metadata": {
    "collapsed": false,
    "jupyter": {
     "outputs_hidden": false
    }
   },
   "outputs": [
    {
     "name": "stdout",
     "output_type": "stream",
     "text": [
      "Requirement already satisfied: gymnasium in /dades/david.morais/miniconda3/envs/sid/lib/python3.9/site-packages (1.1.1)\n",
      "Requirement already satisfied: seaborn in /dades/david.morais/miniconda3/envs/sid/lib/python3.9/site-packages (0.13.2)\n",
      "Requirement already satisfied: numpy in /dades/david.morais/miniconda3/envs/sid/lib/python3.9/site-packages (2.0.2)\n",
      "Requirement already satisfied: cloudpickle>=1.2.0 in /dades/david.morais/miniconda3/envs/sid/lib/python3.9/site-packages (from gymnasium) (3.1.1)\n",
      "Requirement already satisfied: importlib-metadata>=4.8.0 in /dades/david.morais/miniconda3/envs/sid/lib/python3.9/site-packages (from gymnasium) (8.6.1)\n",
      "Requirement already satisfied: typing-extensions>=4.3.0 in /dades/david.morais/miniconda3/envs/sid/lib/python3.9/site-packages (from gymnasium) (4.12.2)\n",
      "Requirement already satisfied: farama-notifications>=0.0.1 in /dades/david.morais/miniconda3/envs/sid/lib/python3.9/site-packages (from gymnasium) (0.0.4)\n",
      "Requirement already satisfied: pandas>=1.2 in /dades/david.morais/miniconda3/envs/sid/lib/python3.9/site-packages (from seaborn) (2.2.3)\n",
      "Requirement already satisfied: matplotlib!=3.6.1,>=3.4 in /dades/david.morais/miniconda3/envs/sid/lib/python3.9/site-packages (from seaborn) (3.9.4)\n",
      "Requirement already satisfied: zipp>=3.20 in /dades/david.morais/miniconda3/envs/sid/lib/python3.9/site-packages (from importlib-metadata>=4.8.0->gymnasium) (3.21.0)\n",
      "Requirement already satisfied: contourpy>=1.0.1 in /dades/david.morais/miniconda3/envs/sid/lib/python3.9/site-packages (from matplotlib!=3.6.1,>=3.4->seaborn) (1.3.0)\n",
      "Requirement already satisfied: cycler>=0.10 in /dades/david.morais/miniconda3/envs/sid/lib/python3.9/site-packages (from matplotlib!=3.6.1,>=3.4->seaborn) (0.12.1)\n",
      "Requirement already satisfied: fonttools>=4.22.0 in /dades/david.morais/miniconda3/envs/sid/lib/python3.9/site-packages (from matplotlib!=3.6.1,>=3.4->seaborn) (4.56.0)\n",
      "Requirement already satisfied: kiwisolver>=1.3.1 in /dades/david.morais/miniconda3/envs/sid/lib/python3.9/site-packages (from matplotlib!=3.6.1,>=3.4->seaborn) (1.4.7)\n",
      "Requirement already satisfied: packaging>=20.0 in /dades/david.morais/miniconda3/envs/sid/lib/python3.9/site-packages (from matplotlib!=3.6.1,>=3.4->seaborn) (24.2)\n",
      "Requirement already satisfied: pillow>=8 in /dades/david.morais/miniconda3/envs/sid/lib/python3.9/site-packages (from matplotlib!=3.6.1,>=3.4->seaborn) (11.1.0)\n",
      "Requirement already satisfied: pyparsing>=2.3.1 in /dades/david.morais/miniconda3/envs/sid/lib/python3.9/site-packages (from matplotlib!=3.6.1,>=3.4->seaborn) (3.2.1)\n",
      "Requirement already satisfied: python-dateutil>=2.7 in /dades/david.morais/miniconda3/envs/sid/lib/python3.9/site-packages (from matplotlib!=3.6.1,>=3.4->seaborn) (2.9.0.post0)\n",
      "Requirement already satisfied: importlib-resources>=3.2.0 in /dades/david.morais/miniconda3/envs/sid/lib/python3.9/site-packages (from matplotlib!=3.6.1,>=3.4->seaborn) (6.5.2)\n",
      "Requirement already satisfied: pytz>=2020.1 in /dades/david.morais/miniconda3/envs/sid/lib/python3.9/site-packages (from pandas>=1.2->seaborn) (2025.1)\n",
      "Requirement already satisfied: tzdata>=2022.7 in /dades/david.morais/miniconda3/envs/sid/lib/python3.9/site-packages (from pandas>=1.2->seaborn) (2025.1)\n",
      "Requirement already satisfied: six>=1.5 in /dades/david.morais/miniconda3/envs/sid/lib/python3.9/site-packages (from python-dateutil>=2.7->matplotlib!=3.6.1,>=3.4->seaborn) (1.17.0)\n"
     ]
    }
   ],
   "source": [
    "!pip install gymnasium seaborn numpy"
   ]
  },
  {
   "cell_type": "code",
   "execution_count": 3,
   "id": "c0c3c67488dc7e97",
   "metadata": {
    "collapsed": false,
    "jupyter": {
     "outputs_hidden": false
    }
   },
   "outputs": [],
   "source": [
    "import gymnasium as gym\n",
    "import seaborn as sns\n",
    "import matplotlib.pyplot as plt\n",
    "import pandas as pd\n",
    "import numpy as np\n",
    "import random\n",
    "from gymnasium import Wrapper"
   ]
  },
  {
   "cell_type": "code",
   "execution_count": 4,
   "id": "f6ddf75fd54d5f08",
   "metadata": {
    "collapsed": false,
    "jupyter": {
     "outputs_hidden": false
    }
   },
   "outputs": [],
   "source": [
    "env = gym.make(\"FrozenLake-v1\", desc=None, map_name=\"4x4\", render_mode=\"human\", is_slippery=SLIPPERY)\n",
    "\n",
    "def test_episode(agent, env):\n",
    "    env.reset()\n",
    "    is_done = False\n",
    "    t = 0\n",
    "\n",
    "    while not is_done:\n",
    "        action = agent.select_action()\n",
    "        state, reward, is_done, truncated, info = env.step(action)\n",
    "        t += 1\n",
    "    return state, reward, is_done, truncated, info\n",
    "\n",
    "def draw_rewards(rewards):\n",
    "    data = pd.DataFrame({'Episode': range(1, len(rewards) + 1), 'Reward': rewards})\n",
    "    plt.figure(figsize=(10, 6))\n",
    "    sns.lineplot(x='Episode', y='Reward', data=data)\n",
    "\n",
    "    plt.title('Rewards Over Episodes')\n",
    "    plt.xlabel('Episode')\n",
    "    plt.ylabel('Reward')\n",
    "    plt.grid(True)\n",
    "    plt.tight_layout()\n",
    "\n",
    "    plt.show()\n",
    "    \n",
    "def print_policy(policy):\n",
    "    visual_help = {0:'<', 1:'v', 2:'>', 3:'^'}\n",
    "    policy_arrows = [visual_help[x] for x in policy]\n",
    "    print(np.array(policy_arrows).reshape([-1, 4]))"
   ]
  },
  {
   "cell_type": "markdown",
   "id": "3683992032c613d6",
   "metadata": {
    "collapsed": false,
    "jupyter": {
     "outputs_hidden": false
    }
   },
   "source": [
    "## Q-Learning"
   ]
  },
  {
   "cell_type": "markdown",
   "id": "d0313a2086649ba6",
   "metadata": {
    "collapsed": false,
    "jupyter": {
     "outputs_hidden": false
    }
   },
   "source": [
    "En esta parte de la sesión vamos a ver una posible implementación del algoritmo Q-Learning (epsilon-based). Esta implementación sigue el algoritmo que habéis visto en clase de teoría, por lo que os podéis guiar por el pseudocódigo si es necesario para entender el código:"
   ]
  },
  {
   "cell_type": "code",
   "execution_count": 5,
   "id": "c44863f2ada841a1",
   "metadata": {
    "collapsed": false,
    "jupyter": {
     "outputs_hidden": false
    }
   },
   "outputs": [],
   "source": [
    "class QLearningAgent:\n",
    "    def __init__(self, env, gamma, learning_rate, epsilon, t_max):\n",
    "        self.env = env\n",
    "        self.Q = np.zeros((env.observation_space.n, env.action_space.n))\n",
    "        self.gamma = gamma\n",
    "        self.learning_rate = learning_rate\n",
    "        self.epsilon = epsilon\n",
    "        self.t_max = t_max\n",
    "\n",
    "    def select_action(self, state, training=True):\n",
    "        if training and random.random() <= self.epsilon:\n",
    "            return np.random.choice(self.env.action_space.n)\n",
    "        else:\n",
    "            return np.argmax(self.Q[state,])\n",
    "        \n",
    "    def update_Q(self, state, action, reward, next_state):\n",
    "        best_next_action = np.argmax(self.Q[next_state,])\n",
    "        td_target = reward + self.gamma * self.Q[next_state, best_next_action]\n",
    "        td_error = td_target - self.Q[state, action]\n",
    "        self.Q[state, action] += self.learning_rate * td_error\n",
    "        \n",
    "    def learn_from_episode(self):\n",
    "        state, _ = env.reset()\n",
    "        total_reward = 0\n",
    "        for i in range(self.t_max):\n",
    "            action = self.select_action(state)\n",
    "            new_state, new_reward, is_done, truncated, _ = self.env.step(action)\n",
    "            total_reward += new_reward\n",
    "            self.update_Q(state, action, new_reward, new_state)\n",
    "            if is_done:\n",
    "                break\n",
    "            state = new_state\n",
    "        return total_reward\n",
    "\n",
    "    def policy(self):\n",
    "        policy = np.zeros(env.observation_space.n) \n",
    "        for s in range(env.observation_space.n):\n",
    "            policy[s] = np.argmax(np.array(self.Q[s]))        \n",
    "        return policy"
   ]
  },
  {
   "cell_type": "markdown",
   "id": "b52e5cc2500aee9d",
   "metadata": {
    "collapsed": false,
    "jupyter": {
     "outputs_hidden": false
    }
   },
   "source": [
    "Observad que el algoritmo recibe varios parámetros que pueden influir en el rendimiento del algoritmo: el factor de descuento, la tasa de aprendizaje, el coeficiente de exploración y el número máximo de pasos por episodio. También deberíais tener en cuenta el número de episodios. En la siguiente celda usamos las constantes definidas al inicio del notebook, pero podéis cambiar los valores para probar diferentes opciones para intentar acelerar el entrenamiento."
   ]
  },
  {
   "cell_type": "code",
   "execution_count": 8,
   "id": "ef4d6580cc5cdab7",
   "metadata": {
    "collapsed": false,
    "jupyter": {
     "outputs_hidden": false
    }
   },
   "outputs": [
    {
     "name": "stdout",
     "output_type": "stream",
     "text": [
      "New reward: 0.0\n",
      "New reward: 0.0\n",
      "New reward: 0.0\n",
      "New reward: 0.0\n",
      "New reward: 0.0\n"
     ]
    },
    {
     "data": {
      "image/png": "[encoded data removed]",
      "text/plain": [
       "<Figure size 1000x600 with 1 Axes>"
      ]
     },
     "metadata": {},
     "output_type": "display_data"
    }
   ],
   "source": [
    "agent = QLearningAgent(env, gamma=GAMMA, learning_rate=LEARNING_RATE, epsilon=EPSILON, t_max=T_MAX)\n",
    "rewards = []\n",
    "for i in range(NUM_EPISODES):\n",
    "    reward = agent.learn_from_episode()\n",
    "    print(\"New reward: \" + str(reward))\n",
    "    rewards.append(reward)\n",
    "draw_rewards(rewards)"
   ]
  },
  {
   "cell_type": "markdown",
   "id": "afdae161f20f5d07",
   "metadata": {
    "collapsed": false,
    "jupyter": {
     "outputs_hidden": false
    }
   },
   "source": [
    "**Jugad un rato con los parámetros para intentar conseguir que el agente consiga utilidades positivas en alguna iteración.**\n",
    "\n",
    "Estamos viendo un problema recurrente con este entorno: las *sparse rewards*. Hay una manera de solucionarlo, que es intentando guiar mejor a través de la señal de recompensa. Con Gymnasium es sencillo hacerlo gracias a los Wrapper.\n",
    "\n",
    "**Modificad el siguiente Wrapper para guiar mejor el entrenamiento del agente:**"
   ]
  },
  {
   "cell_type": "code",
   "execution_count": null,
   "id": "9326969591364668",
   "metadata": {
    "collapsed": false,
    "jupyter": {
     "outputs_hidden": false
    }
   },
   "outputs": [],
   "source": [
    "class CustomFrozenLakeWrapper(Wrapper):\n",
    "    def __init__(self, env):\n",
    "        super().__init__(env)\n",
    "    \n",
    "    def step(self, action):\n",
    "        state, reward, is_done, truncated, info = self.env.step(action)\n",
    "        # Bonificar, penalizar\n",
    "        reward -= 0.05\n",
    "        return state, reward, is_done, truncated, info"
   ]
  },
  {
   "cell_type": "markdown",
   "id": "7dee8ea5bded8886",
   "metadata": {
    "collapsed": false,
    "jupyter": {
     "outputs_hidden": false
    }
   },
   "source": [
    "Una vez tenéis una nueva señal de recompensa, la podéis probar con el siguiente código:"
   ]
  },
  {
   "cell_type": "code",
   "execution_count": null,
   "id": "a2ceccf4264176bf",
   "metadata": {
    "collapsed": false,
    "jupyter": {
     "outputs_hidden": false
    }
   },
   "outputs": [],
   "source": [
    "fixed_env = CustomFrozenLakeWrapper(env)\n",
    "agent = QLearningAgent(fixed_env, gamma=GAMMA, learning_rate=LEARNING_RATE, epsilon=EPSILON, t_max=100)\n",
    "rewards = []\n",
    "for i in range(100):\n",
    "    reward = agent.learn_from_episode()\n",
    "    print(\"New reward: \" + str(reward))\n",
    "    rewards.append(reward)\n",
    "draw_rewards(rewards)"
   ]
  },
  {
   "cell_type": "code",
   "execution_count": null,
   "id": "118950a244795449",
   "metadata": {
    "collapsed": false,
    "jupyter": {
     "outputs_hidden": false
    }
   },
   "outputs": [],
   "source": [
    "policy = agent.policy()\n",
    "print_policy(policy)"
   ]
  },
  {
   "cell_type": "markdown",
   "id": "e8a80592dadfae67",
   "metadata": {
    "collapsed": false,
    "jupyter": {
     "outputs_hidden": false
    }
   },
   "source": [
    "Como siempre, una vez el agente está entrenado, podemos probar su rendimiento en el entorno. Tenemos que asegurarnos de que el coeficiente de exploración no se tiene en cuenta en este caso:"
   ]
  },
  {
   "cell_type": "code",
   "execution_count": null,
   "id": "6c7898f4a3ba8915",
   "metadata": {
    "collapsed": false,
    "jupyter": {
     "outputs_hidden": false
    }
   },
   "outputs": [],
   "source": [
    "is_done = False\n",
    "rewards = []\n",
    "for n_ep in range(NUM_EPISODES):\n",
    "    state, _ = env.reset()\n",
    "    print('Episode: ', n_ep)\n",
    "    total_reward = 0\n",
    "    for i in range(T_MAX):\n",
    "        action = agent.select_action(state, training=False)\n",
    "        state, reward, is_done, truncated, _ = env.step(action)\n",
    "        total_reward = total_reward + reward\n",
    "        env.render()\n",
    "        if is_done:\n",
    "            break\n",
    "    rewards.append(total_reward)\n",
    "draw_rewards(rewards)"
   ]
  },
  {
   "cell_type": "markdown",
   "id": "481564cf3a6a875f",
   "metadata": {
    "collapsed": false,
    "jupyter": {
     "outputs_hidden": false
    }
   },
   "source": [
    "## Ejercicios propuestos\n",
    "\n",
    "1. Añadir dos parámetros nuevos al QLearningAgent: un `epsilon_decay` y un `learning_rate_decay`, que vayan reduciendo ambos valores tras cada episodio para hacer que la política se vaya volviendo estable con el tiempo. También es recomendable añadir un `epsilon_min` para evitar un estancamiento hacia el final del entrenamiento si el resultado está lejos del óptimo. Generalmente, se suele reducir con la fórmula `epsilon = epsilon * epsilon_decay` y la correspondiente para la tasa de aprendizaje. Comprobad empíricamente el efecto de aplicar estos parámetros nuevos.\n",
    "2. Cambiad `SLIPPERY` a True en todos los notebooks y observad la diferencia en el entrenamiento de los agentes. ¿Seríais capaces de encontrar una configuración para resolver FrozenLake-v1 con Q-Learning y `SLIPPERY=True`?\n",
    "2. Aplicar estos mismos algoritmos en alguno de los otros entornos discretos de Gymnasium, como [Taxi](https://gymnasium.farama.org/environments/toy_text/taxi/) o [Cliff Walking](https://gymnasium.farama.org/environments/toy_text/cliff_walking/#)."
   ]
  },
  {
   "cell_type": "code",
   "execution_count": null,
   "id": "1ecd0e526482df7a",
   "metadata": {
    "collapsed": false,
    "jupyter": {
     "outputs_hidden": false
    }
   },
   "outputs": [],
   "source": []
  }
 ],
 "metadata": {
  "kernelspec": {
   "display_name": "Python 3 (ipykernel)",
   "language": "python",
   "name": "python3"
  },
  "language_info": {
   "codemirror_mode": {
    "name": "ipython",
    "version": 3
   },
   "file_extension": ".py",
   "mimetype": "text/x-python",
   "name": "python",
   "nbconvert_exporter": "python",
   "pygments_lexer": "ipython3",
   "version": "3.9.21"
  }
 },
 "nbformat": 4,
 "nbformat_minor": 5
}
