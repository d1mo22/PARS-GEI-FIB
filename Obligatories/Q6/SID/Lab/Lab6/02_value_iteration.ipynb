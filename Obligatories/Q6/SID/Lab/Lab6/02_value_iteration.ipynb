{
 "cells": [
  {
   "cell_type": "markdown",
   "id": "f352ceef0d605988",
   "metadata": {
    "collapsed": false,
    "jupyter": {
     "outputs_hidden": false
    }
   },
   "source": [
    "# Lab: Aprendizaje por refuerzo (I)\n",
    "# 2 - Iteración de valor"
   ]
  },
  {
   "cell_type": "markdown",
   "id": "1a24f9cf8d162a2c",
   "metadata": {
    "collapsed": false,
    "jupyter": {
     "outputs_hidden": false
    }
   },
   "source": [
    "## Configuración y dependencias"
   ]
  },
  {
   "cell_type": "code",
   "execution_count": 1,
   "id": "3c4663d4e7a202af",
   "metadata": {
    "collapsed": false,
    "jupyter": {
     "outputs_hidden": false
    }
   },
   "outputs": [],
   "source": [
    "# Declaración de constantes\n",
    "SLIPPERY = False\n",
    "T_MAX = 15\n",
    "NUM_EPISODES = 5\n",
    "GAMMA = 0.95\n",
    "REWARD_THRESHOLD = 0.9"
   ]
  },
  {
   "cell_type": "code",
   "execution_count": 2,
   "id": "7ca4893610eda720",
   "metadata": {
    "collapsed": false,
    "jupyter": {
     "outputs_hidden": false
    }
   },
   "outputs": [
    {
     "name": "stdout",
     "output_type": "stream",
     "text": [
      "Requirement already satisfied: gymnasium in /dades/david.morais/miniconda3/envs/sid/lib/python3.9/site-packages (1.1.1)\n",
      "Requirement already satisfied: seaborn in /dades/david.morais/miniconda3/envs/sid/lib/python3.9/site-packages (0.13.2)\n",
      "Requirement already satisfied: numpy in /dades/david.morais/miniconda3/envs/sid/lib/python3.9/site-packages (2.0.2)\n",
      "Requirement already satisfied: pygame in /dades/david.morais/miniconda3/envs/sid/lib/python3.9/site-packages (2.6.1)\n",
      "Requirement already satisfied: cloudpickle>=1.2.0 in /dades/david.morais/miniconda3/envs/sid/lib/python3.9/site-packages (from gymnasium) (3.1.1)\n",
      "Requirement already satisfied: importlib-metadata>=4.8.0 in /dades/david.morais/miniconda3/envs/sid/lib/python3.9/site-packages (from gymnasium) (8.6.1)\n",
      "Requirement already satisfied: typing-extensions>=4.3.0 in /dades/david.morais/miniconda3/envs/sid/lib/python3.9/site-packages (from gymnasium) (4.12.2)\n",
      "Requirement already satisfied: farama-notifications>=0.0.1 in /dades/david.morais/miniconda3/envs/sid/lib/python3.9/site-packages (from gymnasium) (0.0.4)\n",
      "Requirement already satisfied: pandas>=1.2 in /dades/david.morais/miniconda3/envs/sid/lib/python3.9/site-packages (from seaborn) (2.2.3)\n",
      "Requirement already satisfied: matplotlib!=3.6.1,>=3.4 in /dades/david.morais/miniconda3/envs/sid/lib/python3.9/site-packages (from seaborn) (3.9.4)\n",
      "Requirement already satisfied: zipp>=3.20 in /dades/david.morais/miniconda3/envs/sid/lib/python3.9/site-packages (from importlib-metadata>=4.8.0->gymnasium) (3.21.0)\n",
      "Requirement already satisfied: contourpy>=1.0.1 in /dades/david.morais/miniconda3/envs/sid/lib/python3.9/site-packages (from matplotlib!=3.6.1,>=3.4->seaborn) (1.3.0)\n",
      "Requirement already satisfied: cycler>=0.10 in /dades/david.morais/miniconda3/envs/sid/lib/python3.9/site-packages (from matplotlib!=3.6.1,>=3.4->seaborn) (0.12.1)\n",
      "Requirement already satisfied: fonttools>=4.22.0 in /dades/david.morais/miniconda3/envs/sid/lib/python3.9/site-packages (from matplotlib!=3.6.1,>=3.4->seaborn) (4.56.0)\n",
      "Requirement already satisfied: kiwisolver>=1.3.1 in /dades/david.morais/miniconda3/envs/sid/lib/python3.9/site-packages (from matplotlib!=3.6.1,>=3.4->seaborn) (1.4.7)\n",
      "Requirement already satisfied: packaging>=20.0 in /dades/david.morais/miniconda3/envs/sid/lib/python3.9/site-packages (from matplotlib!=3.6.1,>=3.4->seaborn) (24.2)\n",
      "Requirement already satisfied: pillow>=8 in /dades/david.morais/miniconda3/envs/sid/lib/python3.9/site-packages (from matplotlib!=3.6.1,>=3.4->seaborn) (11.1.0)\n",
      "Requirement already satisfied: pyparsing>=2.3.1 in /dades/david.morais/miniconda3/envs/sid/lib/python3.9/site-packages (from matplotlib!=3.6.1,>=3.4->seaborn) (3.2.1)\n",
      "Requirement already satisfied: python-dateutil>=2.7 in /dades/david.morais/miniconda3/envs/sid/lib/python3.9/site-packages (from matplotlib!=3.6.1,>=3.4->seaborn) (2.9.0.post0)\n",
      "Requirement already satisfied: importlib-resources>=3.2.0 in /dades/david.morais/miniconda3/envs/sid/lib/python3.9/site-packages (from matplotlib!=3.6.1,>=3.4->seaborn) (6.5.2)\n",
      "Requirement already satisfied: pytz>=2020.1 in /dades/david.morais/miniconda3/envs/sid/lib/python3.9/site-packages (from pandas>=1.2->seaborn) (2025.1)\n",
      "Requirement already satisfied: tzdata>=2022.7 in /dades/david.morais/miniconda3/envs/sid/lib/python3.9/site-packages (from pandas>=1.2->seaborn) (2025.1)\n",
      "Requirement already satisfied: six>=1.5 in /dades/david.morais/miniconda3/envs/sid/lib/python3.9/site-packages (from python-dateutil>=2.7->matplotlib!=3.6.1,>=3.4->seaborn) (1.17.0)\n"
     ]
    }
   ],
   "source": [
    "!pip install gymnasium seaborn numpy pygame"
   ]
  },
  {
   "cell_type": "code",
   "execution_count": 3,
   "id": "70c6aebaf6bcdd3",
   "metadata": {
    "collapsed": false,
    "jupyter": {
     "outputs_hidden": false
    }
   },
   "outputs": [],
   "source": [
    "import gymnasium as gym\n",
    "import seaborn as sns\n",
    "import matplotlib.pyplot as plt\n",
    "import pandas as pd\n",
    "import numpy as np"
   ]
  },
  {
   "cell_type": "code",
   "execution_count": 4,
   "id": "5ae63477f82d8c2b",
   "metadata": {
    "collapsed": false,
    "jupyter": {
     "outputs_hidden": false
    }
   },
   "outputs": [],
   "source": [
    "env = gym.make(\"FrozenLake-v1\", desc=None, map_name=\"4x4\", render_mode=\"human\", is_slippery=SLIPPERY)\n",
    "\n",
    "def test_episode(agent, env):\n",
    "    env.reset()\n",
    "    is_done = False\n",
    "    t = 0\n",
    "\n",
    "    while not is_done:\n",
    "        action = agent.select_action()\n",
    "        state, reward, is_done, truncated, info = env.step(action)\n",
    "        t += 1\n",
    "    return state, reward, is_done, truncated, info\n",
    "\n",
    "def draw_rewards(rewards):\n",
    "    data = pd.DataFrame({'Episode': range(1, len(rewards) + 1), 'Reward': rewards})\n",
    "    plt.figure(figsize=(10, 6))\n",
    "    sns.lineplot(x='Episode', y='Reward', data=data)\n",
    "\n",
    "    plt.title('Rewards Over Episodes')\n",
    "    plt.xlabel('Episode')\n",
    "    plt.ylabel('Reward')\n",
    "    plt.grid(True)\n",
    "    plt.tight_layout()\n",
    "\n",
    "    plt.show()"
   ]
  },
  {
   "cell_type": "markdown",
   "id": "788030c15c551bd2",
   "metadata": {
    "collapsed": false,
    "jupyter": {
     "outputs_hidden": false
    }
   },
   "source": [
    "## Tarea de entorno como MDP"
   ]
  },
  {
   "cell_type": "markdown",
   "id": "ba31dde32bdb1a17",
   "metadata": {
    "collapsed": false,
    "jupyter": {
     "outputs_hidden": false
    }
   },
   "source": [
    "En algunos entornos de Gymnasium, especialmente en los basados en espacios discretos de estados y acciones, es posible acceder a las funciones de transición y recompensa:"
   ]
  },
  {
   "cell_type": "code",
   "execution_count": 5,
   "id": "1e9472f9e04280bb",
   "metadata": {
    "collapsed": false,
    "jupyter": {
     "outputs_hidden": false
    }
   },
   "outputs": [
    {
     "data": {
      "text/plain": [
       "{0: {0: [(1.0, 0, 0.0, False)],\n",
       "  1: [(1.0, 4, 0.0, False)],\n",
       "  2: [(1.0, 1, 0.0, False)],\n",
       "  3: [(1.0, 0, 0.0, False)]},\n",
       " 1: {0: [(1.0, 0, 0.0, False)],\n",
       "  1: [(1.0, 5, 0.0, True)],\n",
       "  2: [(1.0, 2, 0.0, False)],\n",
       "  3: [(1.0, 1, 0.0, False)]},\n",
       " 2: {0: [(1.0, 1, 0.0, False)],\n",
       "  1: [(1.0, 6, 0.0, False)],\n",
       "  2: [(1.0, 3, 0.0, False)],\n",
       "  3: [(1.0, 2, 0.0, False)]},\n",
       " 3: {0: [(1.0, 2, 0.0, False)],\n",
       "  1: [(1.0, 7, 0.0, True)],\n",
       "  2: [(1.0, 3, 0.0, False)],\n",
       "  3: [(1.0, 3, 0.0, False)]},\n",
       " 4: {0: [(1.0, 4, 0.0, False)],\n",
       "  1: [(1.0, 8, 0.0, False)],\n",
       "  2: [(1.0, 5, 0.0, True)],\n",
       "  3: [(1.0, 0, 0.0, False)]},\n",
       " 5: {0: [(1.0, 5, 0, True)],\n",
       "  1: [(1.0, 5, 0, True)],\n",
       "  2: [(1.0, 5, 0, True)],\n",
       "  3: [(1.0, 5, 0, True)]},\n",
       " 6: {0: [(1.0, 5, 0.0, True)],\n",
       "  1: [(1.0, 10, 0.0, False)],\n",
       "  2: [(1.0, 7, 0.0, True)],\n",
       "  3: [(1.0, 2, 0.0, False)]},\n",
       " 7: {0: [(1.0, 7, 0, True)],\n",
       "  1: [(1.0, 7, 0, True)],\n",
       "  2: [(1.0, 7, 0, True)],\n",
       "  3: [(1.0, 7, 0, True)]},\n",
       " 8: {0: [(1.0, 8, 0.0, False)],\n",
       "  1: [(1.0, 12, 0.0, True)],\n",
       "  2: [(1.0, 9, 0.0, False)],\n",
       "  3: [(1.0, 4, 0.0, False)]},\n",
       " 9: {0: [(1.0, 8, 0.0, False)],\n",
       "  1: [(1.0, 13, 0.0, False)],\n",
       "  2: [(1.0, 10, 0.0, False)],\n",
       "  3: [(1.0, 5, 0.0, True)]},\n",
       " 10: {0: [(1.0, 9, 0.0, False)],\n",
       "  1: [(1.0, 14, 0.0, False)],\n",
       "  2: [(1.0, 11, 0.0, True)],\n",
       "  3: [(1.0, 6, 0.0, False)]},\n",
       " 11: {0: [(1.0, 11, 0, True)],\n",
       "  1: [(1.0, 11, 0, True)],\n",
       "  2: [(1.0, 11, 0, True)],\n",
       "  3: [(1.0, 11, 0, True)]},\n",
       " 12: {0: [(1.0, 12, 0, True)],\n",
       "  1: [(1.0, 12, 0, True)],\n",
       "  2: [(1.0, 12, 0, True)],\n",
       "  3: [(1.0, 12, 0, True)]},\n",
       " 13: {0: [(1.0, 12, 0.0, True)],\n",
       "  1: [(1.0, 13, 0.0, False)],\n",
       "  2: [(1.0, 14, 0.0, False)],\n",
       "  3: [(1.0, 9, 0.0, False)]},\n",
       " 14: {0: [(1.0, 13, 0.0, False)],\n",
       "  1: [(1.0, 14, 0.0, False)],\n",
       "  2: [(1.0, 15, 1.0, True)],\n",
       "  3: [(1.0, 10, 0.0, False)]},\n",
       " 15: {0: [(1.0, 15, 0, True)],\n",
       "  1: [(1.0, 15, 0, True)],\n",
       "  2: [(1.0, 15, 0, True)],\n",
       "  3: [(1.0, 15, 0, True)]}}"
      ]
     },
     "execution_count": 5,
     "metadata": {},
     "output_type": "execute_result"
    }
   ],
   "source": [
    "env.unwrapped.P"
   ]
  },
  {
   "cell_type": "markdown",
   "id": "2ce66bf74fe949ec",
   "metadata": {
    "collapsed": false,
    "jupyter": {
     "outputs_hidden": false
    }
   },
   "source": [
    "En esta estructura podéis encontrar un diccionario de estados, donde para cada estado hay un diccionario de acciones, definiendo así pares de estado-acción. Para cada uno de estos pares, hay una lista de tuplas representando los posibles estados a los que se puede llegar y en qué condiciones. Cada tupla contiene, por este orden: la probabilidad de llegar a partir del estado y la acción correspondientes a las claves de los diccionarios, el estado al que se llega, la recompensa y un booleano indicando si se ha llegado a un estado final.\n",
    "\n",
    "Debido a que el estado 15 es el único que recibe recompensa, desde el estado 14 mediante la acción 2, podemos deducir que 15 es el estado que está en la esquina inferior izquierda y que la acción 2 se corresponde con la acción \"Right\". **Completa el siguiente código para obtener un agente que completa el entorno con una política prediseñada:**"
   ]
  },
  {
   "cell_type": "code",
   "execution_count": 6,
   "id": "a0a67b0ef58c26bb",
   "metadata": {
    "collapsed": false,
    "jupyter": {
     "outputs_hidden": false
    }
   },
   "outputs": [],
   "source": [
    "class PlanAgent:\n",
    "    def __init__(self):\n",
    "        self.actions = {'Right': 2, 'Down': 1}\n",
    "        self.good_plan = 2 * ['Right'] + 3 * ['Down'] + ['Right'] \n",
    "        self.step = 0\n",
    "\n",
    "    def select_action(self):\n",
    "        action = self.good_plan[self.step]\n",
    "        self.step = (self.step + 1) % len(self.good_plan)\n",
    "        return self.actions[action]\n",
    "\n",
    "    def reset(self):\n",
    "        self.step = 0"
   ]
  },
  {
   "cell_type": "code",
   "execution_count": 7,
   "id": "4d66959411621fac",
   "metadata": {
    "collapsed": false,
    "jupyter": {
     "outputs_hidden": false
    }
   },
   "outputs": [
    {
     "name": "stdout",
     "output_type": "stream",
     "text": [
      "Episode:  0\n",
      "Episode:  1\n",
      "Episode:  2\n",
      "Episode:  3\n",
      "Episode:  4\n"
     ]
    },
    {
     "data": {
      "image/png": "[encoded data removed]",
      "text/plain": [
       "<Figure size 1000x600 with 1 Axes>"
      ]
     },
     "metadata": {},
     "output_type": "display_data"
    }
   ],
   "source": [
    "agent = PlanAgent()\n",
    "is_done = False\n",
    "rewards = []\n",
    "for n_ep in range(NUM_EPISODES):\n",
    "    print('Episode: ', n_ep)\n",
    "    env.reset()\n",
    "    total_reward = 0\n",
    "    for i in range(T_MAX):\n",
    "        action = agent.select_action()\n",
    "        state, reward, is_done, truncated, _ = env.step(action)\n",
    "        total_reward = total_reward + reward\n",
    "        env.render()\n",
    "        if is_done:\n",
    "            break\n",
    "    rewards.append(total_reward)\n",
    "draw_rewards(rewards)"
   ]
  },
  {
   "cell_type": "markdown",
   "id": "d2e4d22baf388c5f",
   "metadata": {
    "collapsed": false,
    "jupyter": {
     "outputs_hidden": false
    }
   },
   "source": [
    "## Aprovechando el MDP: algoritmo de *value iteration*"
   ]
  },
  {
   "cell_type": "markdown",
   "id": "17afd7b3325b67b9",
   "metadata": {
    "collapsed": false,
    "jupyter": {
     "outputs_hidden": false
    }
   },
   "source": [
    "Aquí tenéis una posible implementación del algoritmo de iteración de valor para la ecuación V*, usando arrays de NumPy. Observad cómo se actualizan los valores de V y cómo se utiliza el MDP que se puede consultar en el objeto del entorno:"
   ]
  },
  {
   "cell_type": "code",
   "execution_count": 8,
   "id": "d630b18cbd8592fb",
   "metadata": {
    "collapsed": false,
    "jupyter": {
     "outputs_hidden": false
    }
   },
   "outputs": [],
   "source": [
    "class ValueIterationAgent:\n",
    "    def __init__(self, env, gamma):\n",
    "        self.env = env\n",
    "        self.V = np.zeros(self.env.observation_space.n)\n",
    "        self.gamma = gamma\n",
    "        \n",
    "    def calc_action_value(self, state, action):\n",
    "        action_value = sum([prob * (reward + self.gamma * self.V[next_state])\n",
    "                            for prob, next_state, reward, _ \n",
    "                            in self.env.unwrapped.P[state][action]]) \n",
    "        return action_value\n",
    "\n",
    "    def select_action(self, state):\n",
    "        best_action = best_value = None\n",
    "        for action in range(self.env.action_space.n):\n",
    "            action_value = self.calc_action_value(state, action)\n",
    "            if not best_value or best_value < action_value:\n",
    "                best_value = action_value\n",
    "                best_action = action\n",
    "        return best_action\n",
    "\n",
    "    def value_iteration(self):\n",
    "        max_diff = 0\n",
    "        for state in range(self.env.observation_space.n):\n",
    "            state_values = []\n",
    "            for action in range(self.env.action_space.n):  \n",
    "                state_values.append(self.calc_action_value(state, action))\n",
    "            new_V = max(state_values)\n",
    "            diff = abs(new_V - self.V[state])\n",
    "            if diff > max_diff:\n",
    "                max_diff = diff\n",
    "            self.V[state] = new_V\n",
    "        return self.V, max_diff\n",
    "    \n",
    "    def policy(self):   \n",
    "        policy = np.zeros(env.observation_space.n) \n",
    "        for s in range(env.observation_space.n):\n",
    "            Q_values = [self.calc_action_value(s,a) for a in range(self.env.action_space.n)] \n",
    "            policy[s] = np.argmax(np.array(Q_values))        \n",
    "        return policy"
   ]
  },
  {
   "cell_type": "markdown",
   "id": "f48f216b4b45b527",
   "metadata": {
    "collapsed": false,
    "jupyter": {
     "outputs_hidden": false
    }
   },
   "source": [
    "Definimos una función para decidir cuándo parar la iteración de valor. También definimos una función para automatizar el entrenamiento. El algoritmo de iteración de valor se considera un algoritmo de aprendizaje por refuerzo activo y basado en modelo (que depende de un MDP).\n",
    "\n",
    "En clase de teoría hemos visto la convergencia basada en la máxima diferencia entre valores de estados. Otra opción es la de definir un umbral de recompensa a partir del cual parar:"
   ]
  },
  {
   "cell_type": "code",
   "execution_count": 19,
   "id": "531f1256eb8eab79",
   "metadata": {
    "collapsed": false,
    "jupyter": {
     "outputs_hidden": false
    }
   },
   "outputs": [],
   "source": [
    "def check_improvements():\n",
    "    reward_test = 0.0\n",
    "    for i in range(NUM_EPISODES):\n",
    "        total_reward = 0.0\n",
    "        state, _ = env.reset()\n",
    "        for i in range(T_MAX):\n",
    "            action = agent.select_action(state)\n",
    "            new_state, new_reward, is_done, truncated, _ = env.step(action)\n",
    "            total_reward += new_reward\n",
    "            if is_done: \n",
    "                break\n",
    "            state = new_state\n",
    "        reward_test += total_reward\n",
    "    reward_avg = reward_test / NUM_EPISODES\n",
    "    return reward_avg\n",
    "\n",
    "def train(agent): \n",
    "    rewards = []\n",
    "    max_diffs = []\n",
    "    t = 0\n",
    "    best_reward = 0.0\n",
    "     \n",
    "    while best_reward < REWARD_THRESHOLD:\n",
    "        _, max_diff = agent.value_iteration()\n",
    "        max_diffs.append(max_diff)\n",
    "        print(\"After value iteration, max_diff = \" + str(max_diff))\n",
    "        t += 1\n",
    "        last_reward = reward_test\n",
    "        reward_test = check_improvements()\n",
    "        print(\"Reward_test:\" + str(reward_test))\n",
    "        rewards.append(reward_test)\n",
    "               \n",
    "        if reward_test > best_reward:\n",
    "            print(f\"Best reward updated {reward_test:.2f} at iteration {t}\") \n",
    "            best_reward = reward_test\n",
    "    \n",
    "    return rewards, max_diffs"
   ]
  },
  {
   "cell_type": "markdown",
   "id": "b7a7f72db1324eeb",
   "metadata": {
    "collapsed": false,
    "jupyter": {
     "outputs_hidden": false
    }
   },
   "source": [
    "Ahora ya podemos lanzar un entrenamiento:"
   ]
  },
  {
   "cell_type": "code",
   "execution_count": 20,
   "id": "246f7378e3e5ea23",
   "metadata": {
    "collapsed": false,
    "jupyter": {
     "outputs_hidden": false
    }
   },
   "outputs": [
    {
     "name": "stdout",
     "output_type": "stream",
     "text": [
      "After value iteration, max_diff = 1.0\n",
      "Reward_test:0.0\n",
      "After value iteration, max_diff = 0.95\n",
      "Reward_test:0.0\n",
      "After value iteration, max_diff = 0.9025\n",
      "Reward_test:0.0\n",
      "After value iteration, max_diff = 0.8573749999999999\n",
      "Reward_test:0.0\n",
      "After value iteration, max_diff = 0.8145062499999999\n",
      "Reward_test:1.0\n",
      "Best reward updated 1.00 at iteration 5\n"
     ]
    }
   ],
   "source": [
    "agent = ValueIterationAgent(env, gamma=GAMMA)\n",
    "rewards, max_diffs = train(agent)"
   ]
  },
  {
   "cell_type": "markdown",
   "id": "c23b36ee2611bd23",
   "metadata": {
    "collapsed": false,
    "jupyter": {
     "outputs_hidden": false
    }
   },
   "source": [
    "**¿Qué es lo que ocurre durante los primeros episodios? ¿Cómo lo interpretáis, por lo que conocéis del algoritmo?**\n",
    "\n",
    "**Probad a modificar el código para que la parada sea por la diferencia entre valores de estado, poniendo un umbral que os parezca aceptable. ¿Qué método de parada os parece mejor en este escenario?**"
   ]
  },
  {
   "cell_type": "markdown",
   "id": "09cbdda6-382a-4a3e-bd67-75baf4e58091",
   "metadata": {},
   "source": [
    " "
   ]
  },
  {
   "cell_type": "markdown",
   "id": "9cc2b9c440e9fcac",
   "metadata": {
    "collapsed": false,
    "jupyter": {
     "outputs_hidden": false
    }
   },
   "source": [
    "La clase del agente incluye un método para calcular la política:"
   ]
  },
  {
   "cell_type": "code",
   "execution_count": 21,
   "id": "cafe9fe4f31b6734",
   "metadata": {
    "collapsed": false,
    "jupyter": {
     "outputs_hidden": false
    }
   },
   "outputs": [
    {
     "name": "stdout",
     "output_type": "stream",
     "text": [
      "[['v' '>' 'v' '<']\n",
      " ['v' '<' 'v' '<']\n",
      " ['>' 'v' 'v' '<']\n",
      " ['<' '>' '>' '<']]\n"
     ]
    }
   ],
   "source": [
    "def print_policy(policy):\n",
    "    visual_help = {0:'<', 1:'v', 2:'>', 3:'^'}\n",
    "    policy_arrows = [visual_help[x] for x in policy]\n",
    "    print(np.array(policy_arrows).reshape([-1, 4]))\n",
    "    \n",
    "policy = agent.policy()\n",
    "print_policy(policy)"
   ]
  },
  {
   "cell_type": "markdown",
   "id": "322261a5a87dad8a",
   "metadata": {
    "collapsed": false,
    "jupyter": {
     "outputs_hidden": false
    }
   },
   "source": [
    "Una vez que el agente está entrenado, lo podemos poner en el entorno para probar su rendimiento:"
   ]
  },
  {
   "cell_type": "code",
   "execution_count": 22,
   "id": "f1a9eeb6d114a944",
   "metadata": {
    "collapsed": false,
    "jupyter": {
     "outputs_hidden": false
    }
   },
   "outputs": [
    {
     "name": "stdout",
     "output_type": "stream",
     "text": [
      "Episode:  0\n",
      "Episode:  1\n",
      "Episode:  2\n",
      "Episode:  3\n",
      "Episode:  4\n"
     ]
    },
    {
     "data": {
      "image/png": "[encoded data removed]",
      "text/plain": [
       "<Figure size 1000x600 with 1 Axes>"
      ]
     },
     "metadata": {},
     "output_type": "display_data"
    }
   ],
   "source": [
    "is_done = False\n",
    "rewards = []\n",
    "for n_ep in range(NUM_EPISODES):\n",
    "    state, _ = env.reset()\n",
    "    print('Episode: ', n_ep)\n",
    "    total_reward = 0\n",
    "    for i in range(T_MAX):\n",
    "        action = agent.select_action(state)\n",
    "        state, reward, is_done, truncated, _ = env.step(action)\n",
    "        total_reward = total_reward + reward\n",
    "        env.render()\n",
    "        if is_done:\n",
    "            break\n",
    "    rewards.append(total_reward)\n",
    "draw_rewards(rewards)"
   ]
  },
  {
   "cell_type": "code",
   "execution_count": null,
   "id": "4611848dbfe2fce",
   "metadata": {
    "collapsed": false,
    "jupyter": {
     "outputs_hidden": false
    }
   },
   "outputs": [],
   "source": []
  }
 ],
 "metadata": {
  "kernelspec": {
   "display_name": "Python 3 (ipykernel)",
   "language": "python",
   "name": "python3"
  },
  "language_info": {
   "codemirror_mode": {
    "name": "ipython",
    "version": 3
   },
   "file_extension": ".py",
   "mimetype": "text/x-python",
   "name": "python",
   "nbconvert_exporter": "python",
   "pygments_lexer": "ipython3",
   "version": "3.9.21"
  }
 },
 "nbformat": 4,
 "nbformat_minor": 5
}
