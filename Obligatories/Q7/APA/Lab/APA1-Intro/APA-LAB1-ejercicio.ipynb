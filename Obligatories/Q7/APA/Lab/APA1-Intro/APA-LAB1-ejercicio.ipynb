{
 "cells": [
  {
   "cell_type": "code",
   "execution_count": 1,
   "metadata": {},
   "outputs": [],
   "source": [
    "# Descomentar para actualizar librerias\n",
    "# Si se actualiza alguna libreria hay que reiniciar el notebook\n",
    "# !pip install pandas --upgrade --user --quiet\n",
    "# !pip install numpy --upgrade --user --quiet\n",
    "# !pip install scipy --upgrade --user --quiet\n",
    "# !pip install scikit-learn --upgrade --user --quiet\n",
    "# !pip install missingno --upgrade --user --quiet\n",
    "!pip install apafib --upgrade --user --quiet"
   ]
  },
  {
   "cell_type": "code",
   "execution_count": 3,
   "metadata": {},
   "outputs": [],
   "source": [
    "from IPython.core.interactiveshell import InteractiveShell\n",
    "InteractiveShell.ast_node_interactivity = \"all\""
   ]
  },
  {
   "cell_type": "code",
   "execution_count": 4,
   "metadata": {},
   "outputs": [],
   "source": [
    "import seaborn as sns\n",
    "import matplotlib.pyplot as plt\n",
    "import numpy as np\n",
    "from scipy.stats import normaltest\n",
    "from sklearn.model_selection import train_test_split\n",
    "from sklearn.neighbors import LocalOutlierFactor\n",
    "from sklearn.impute import KNNImputer\n",
    "from sklearn.preprocessing import Binarizer, MinMaxScaler, StandardScaler, PowerTransformer\n",
    "\n",
    "import missingno as msno\n",
    "\n",
    "import pandas as pd\n",
    "from pandas.plotting import scatter_matrix\n",
    "pd.set_option('display.max_columns', None)\n",
    "pd.set_option('display.max_rows', None)\n",
    "pd.set_option('display.precision', 3)\n",
    "\n",
    "from apafib import load_credit_scoring"
   ]
  },
  {
   "cell_type": "code",
   "execution_count": 5,
   "metadata": {},
   "outputs": [
    {
     "data": {
      "text/plain": [
       "'2.1.0'"
      ]
     },
     "execution_count": 5,
     "metadata": {},
     "output_type": "execute_result"
    }
   ],
   "source": [
    "pd.__version__"
   ]
  },
  {
   "cell_type": "markdown",
   "metadata": {},
   "source": [
    "# Ejercicio práctico de preprocesamiento\n",
    "\n",
    "En este ejercicio, se deben preprocesar los datos de entrenamiento y de test. El resultado de este procesamiento previo debe permitir aplicar un clasificador que necesite datos numéricos para obtener un valor para el atributo **Assessment**.\n",
    "\n",
    "Los datos los podéis obtener mediante la funcion `load_credit_scoring` de la librería `apafib` que retornará los datos como un DataFrame de pandas.\n",
    "\n",
    "\n",
    "El preprocesamiento debe tener las siguientes partes:\n",
    "- [ ] Partición del conjunto de datos\n",
    "- [ ] Inspección básica de los datos.\n",
    "- [ ] Tratar con valores faltantes (podéis elegir qué hacer con ellos en cada caso).\n",
    "- [ ] Encontrar valores atípicos y decidir qué hacer con ellos.\n",
    "- [ ] Transformar todas las variables categóricas en variables one-hot-encoding.\n",
    "- [ ] Estandarizar las variables numéricas asumiendo que el modelo a aplicar prefiere variables con distribucion gausiana\n",
    "\n"
   ]
  }
 ],
 "metadata": {
  "kernelspec": {
   "display_name": "Python 3 (ipykernel)",
   "language": "python",
   "name": "python3"
  },
  "language_info": {
   "codemirror_mode": {
    "name": "ipython",
    "version": 3
   },
   "file_extension": ".py",
   "mimetype": "text/x-python",
   "name": "python",
   "nbconvert_exporter": "python",
   "pygments_lexer": "ipython3",
   "version": "3.11.4"
  },
  "vscode": {
   "interpreter": {
    "hash": "e7370f93d1d0cde622a1f8e1c04877d8463912d04d973331ad4851f04de6915a"
   }
  }
 },
 "nbformat": 4,
 "nbformat_minor": 2
}
